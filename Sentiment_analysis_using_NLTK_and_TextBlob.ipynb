{
  "cells": [
    {
      "cell_type": "code",
      "execution_count": null,
      "id": "12db4c6b-7b9d-44fa-812b-2cfe000178a2",
      "metadata": {
        "tags": [],
        "id": "12db4c6b-7b9d-44fa-812b-2cfe000178a2",
        "outputId": "7ec4122b-7e85-4776-abd0-c6a340511826"
      },
      "outputs": [
        {
          "name": "stdout",
          "output_type": "stream",
          "text": [
            "Requirement already satisfied: pandas in c:\\users\\user\\appdata\\local\\programs\\python\\python310\\lib\\site-packages (2.0.0)\n",
            "Requirement already satisfied: python-dateutil>=2.8.2 in c:\\users\\user\\appdata\\local\\programs\\python\\python310\\lib\\site-packages (from pandas) (2.8.2)\n",
            "Requirement already satisfied: pytz>=2020.1 in c:\\users\\user\\appdata\\local\\programs\\python\\python310\\lib\\site-packages (from pandas) (2023.3)\n",
            "Requirement already satisfied: tzdata>=2022.1 in c:\\users\\user\\appdata\\local\\programs\\python\\python310\\lib\\site-packages (from pandas) (2023.3)\n",
            "Requirement already satisfied: numpy>=1.21.0 in c:\\users\\user\\appdata\\local\\programs\\python\\python310\\lib\\site-packages (from pandas) (1.24.2)\n",
            "Requirement already satisfied: six>=1.5 in c:\\users\\user\\appdata\\local\\programs\\python\\python310\\lib\\site-packages (from python-dateutil>=2.8.2->pandas) (1.16.0)\n"
          ]
        }
      ],
      "source": [
        "!pip install pandas"
      ]
    },
    {
      "cell_type": "code",
      "execution_count": null,
      "id": "f47d1569-f7ce-462f-b02a-c346292ebb8d",
      "metadata": {
        "tags": [],
        "id": "f47d1569-f7ce-462f-b02a-c346292ebb8d"
      },
      "outputs": [],
      "source": [
        "import pandas as pd"
      ]
    },
    {
      "cell_type": "code",
      "execution_count": null,
      "id": "75fccfe6-db68-4b3e-983e-53955c4c024a",
      "metadata": {
        "tags": [],
        "id": "75fccfe6-db68-4b3e-983e-53955c4c024a",
        "outputId": "90331239-3281-4ca9-b376-61d9da48f578"
      },
      "outputs": [
        {
          "data": {
            "text/html": [
              "<div>\n",
              "<style scoped>\n",
              "    .dataframe tbody tr th:only-of-type {\n",
              "        vertical-align: middle;\n",
              "    }\n",
              "\n",
              "    .dataframe tbody tr th {\n",
              "        vertical-align: top;\n",
              "    }\n",
              "\n",
              "    .dataframe thead th {\n",
              "        text-align: right;\n",
              "    }\n",
              "</style>\n",
              "<table border=\"1\" class=\"dataframe\">\n",
              "  <thead>\n",
              "    <tr style=\"text-align: right;\">\n",
              "      <th></th>\n",
              "      <th>Unnamed: 0</th>\n",
              "      <th>Review</th>\n",
              "    </tr>\n",
              "  </thead>\n",
              "  <tbody>\n",
              "    <tr>\n",
              "      <th>0</th>\n",
              "      <td>1</td>\n",
              "      <td>Absolutely love the value with their \"buy at l...</td>\n",
              "    </tr>\n",
              "    <tr>\n",
              "      <th>1</th>\n",
              "      <td>2</td>\n",
              "      <td>Ordered food from Domino's on North 25th stree...</td>\n",
              "    </tr>\n",
              "    <tr>\n",
              "      <th>2</th>\n",
              "      <td>3</td>\n",
              "      <td>Ordered a veggie lover's pizza without onion f...</td>\n",
              "    </tr>\n",
              "    <tr>\n",
              "      <th>3</th>\n",
              "      <td>4</td>\n",
              "      <td>Just another good experience with the Domino's...</td>\n",
              "    </tr>\n",
              "    <tr>\n",
              "      <th>4</th>\n",
              "      <td>5</td>\n",
              "      <td>Review for Dominos del Amo bl, Lakewood CA. Ve...</td>\n",
              "    </tr>\n",
              "  </tbody>\n",
              "</table>\n",
              "</div>"
            ],
            "text/plain": [
              "   Unnamed: 0                                             Review\n",
              "0           1  Absolutely love the value with their \"buy at l...\n",
              "1           2  Ordered food from Domino's on North 25th stree...\n",
              "2           3  Ordered a veggie lover's pizza without onion f...\n",
              "3           4  Just another good experience with the Domino's...\n",
              "4           5  Review for Dominos del Amo bl, Lakewood CA. Ve..."
            ]
          },
          "execution_count": 5,
          "metadata": {},
          "output_type": "execute_result"
        }
      ],
      "source": [
        "data = pd.read_csv('reviews.txt', sep='\\t')\n",
        "data.head()"
      ]
    },
    {
      "cell_type": "markdown",
      "id": "7490a8cc-c039-4830-b7f4-74876f7f35e1",
      "metadata": {
        "id": "7490a8cc-c039-4830-b7f4-74876f7f35e1"
      },
      "source": [
        "Dropping unwanted columns"
      ]
    },
    {
      "cell_type": "code",
      "execution_count": null,
      "id": "83a79c03-d839-49bf-be7c-d7655c6af354",
      "metadata": {
        "tags": [],
        "id": "83a79c03-d839-49bf-be7c-d7655c6af354",
        "outputId": "9dca57ef-f70c-44f8-f76f-ef2cce6e2fba"
      },
      "outputs": [
        {
          "data": {
            "text/html": [
              "<div>\n",
              "<style scoped>\n",
              "    .dataframe tbody tr th:only-of-type {\n",
              "        vertical-align: middle;\n",
              "    }\n",
              "\n",
              "    .dataframe tbody tr th {\n",
              "        vertical-align: top;\n",
              "    }\n",
              "\n",
              "    .dataframe thead th {\n",
              "        text-align: right;\n",
              "    }\n",
              "</style>\n",
              "<table border=\"1\" class=\"dataframe\">\n",
              "  <thead>\n",
              "    <tr style=\"text-align: right;\">\n",
              "      <th></th>\n",
              "      <th>Review</th>\n",
              "    </tr>\n",
              "  </thead>\n",
              "  <tbody>\n",
              "    <tr>\n",
              "      <th>0</th>\n",
              "      <td>Absolutely love the value with their \"buy at l...</td>\n",
              "    </tr>\n",
              "    <tr>\n",
              "      <th>1</th>\n",
              "      <td>Ordered food from Domino's on North 25th stree...</td>\n",
              "    </tr>\n",
              "    <tr>\n",
              "      <th>2</th>\n",
              "      <td>Ordered a veggie lover's pizza without onion f...</td>\n",
              "    </tr>\n",
              "    <tr>\n",
              "      <th>3</th>\n",
              "      <td>Just another good experience with the Domino's...</td>\n",
              "    </tr>\n",
              "    <tr>\n",
              "      <th>4</th>\n",
              "      <td>Review for Dominos del Amo bl, Lakewood CA. Ve...</td>\n",
              "    </tr>\n",
              "  </tbody>\n",
              "</table>\n",
              "</div>"
            ],
            "text/plain": [
              "                                              Review\n",
              "0  Absolutely love the value with their \"buy at l...\n",
              "1  Ordered food from Domino's on North 25th stree...\n",
              "2  Ordered a veggie lover's pizza without onion f...\n",
              "3  Just another good experience with the Domino's...\n",
              "4  Review for Dominos del Amo bl, Lakewood CA. Ve..."
            ]
          },
          "execution_count": 6,
          "metadata": {},
          "output_type": "execute_result"
        }
      ],
      "source": [
        "mydata = data.drop('Unnamed: 0', axis=1)\n",
        "mydata.head()"
      ]
    },
    {
      "cell_type": "markdown",
      "id": "28e06a58-244b-450b-82d0-036fa48ddc6d",
      "metadata": {
        "id": "28e06a58-244b-450b-82d0-036fa48ddc6d"
      },
      "source": [
        "Step 1: Cleaning the text:\n",
        "Remove the special characters, numbers from the text"
      ]
    },
    {
      "cell_type": "code",
      "execution_count": null,
      "id": "7a99327d-91d7-4db7-8e6f-f8a2aff84e16",
      "metadata": {
        "tags": [],
        "id": "7a99327d-91d7-4db7-8e6f-f8a2aff84e16"
      },
      "outputs": [],
      "source": [
        "import re"
      ]
    },
    {
      "cell_type": "code",
      "execution_count": null,
      "id": "e9eb90d1-9903-4765-8eba-90793f4764cd",
      "metadata": {
        "tags": [],
        "id": "e9eb90d1-9903-4765-8eba-90793f4764cd",
        "outputId": "c97cefbe-690d-409e-d634-20d200c662c3"
      },
      "outputs": [
        {
          "data": {
            "text/html": [
              "<div>\n",
              "<style scoped>\n",
              "    .dataframe tbody tr th:only-of-type {\n",
              "        vertical-align: middle;\n",
              "    }\n",
              "\n",
              "    .dataframe tbody tr th {\n",
              "        vertical-align: top;\n",
              "    }\n",
              "\n",
              "    .dataframe thead th {\n",
              "        text-align: right;\n",
              "    }\n",
              "</style>\n",
              "<table border=\"1\" class=\"dataframe\">\n",
              "  <thead>\n",
              "    <tr style=\"text-align: right;\">\n",
              "      <th></th>\n",
              "      <th>Review</th>\n",
              "      <th>Cleaned Reviews</th>\n",
              "    </tr>\n",
              "  </thead>\n",
              "  <tbody>\n",
              "    <tr>\n",
              "      <th>0</th>\n",
              "      <td>Absolutely love the value with their \"buy at l...</td>\n",
              "      <td>Absolutely love the value with their buy at le...</td>\n",
              "    </tr>\n",
              "    <tr>\n",
              "      <th>1</th>\n",
              "      <td>Ordered food from Domino's on North 25th stree...</td>\n",
              "      <td>Ordered food from Domino s on North th street ...</td>\n",
              "    </tr>\n",
              "    <tr>\n",
              "      <th>2</th>\n",
              "      <td>Ordered a veggie lover's pizza without onion f...</td>\n",
              "      <td>Ordered a veggie lover s pizza without onion f...</td>\n",
              "    </tr>\n",
              "    <tr>\n",
              "      <th>3</th>\n",
              "      <td>Just another good experience with the Domino's...</td>\n",
              "      <td>Just another good experience with the Domino s...</td>\n",
              "    </tr>\n",
              "    <tr>\n",
              "      <th>4</th>\n",
              "      <td>Review for Dominos del Amo bl, Lakewood CA. Ve...</td>\n",
              "      <td>Review for Dominos del Amo bl Lakewood CA Very...</td>\n",
              "    </tr>\n",
              "  </tbody>\n",
              "</table>\n",
              "</div>"
            ],
            "text/plain": [
              "                                              Review   \n",
              "0  Absolutely love the value with their \"buy at l...  \\\n",
              "1  Ordered food from Domino's on North 25th stree...   \n",
              "2  Ordered a veggie lover's pizza without onion f...   \n",
              "3  Just another good experience with the Domino's...   \n",
              "4  Review for Dominos del Amo bl, Lakewood CA. Ve...   \n",
              "\n",
              "                                     Cleaned Reviews  \n",
              "0  Absolutely love the value with their buy at le...  \n",
              "1  Ordered food from Domino s on North th street ...  \n",
              "2  Ordered a veggie lover s pizza without onion f...  \n",
              "3  Just another good experience with the Domino s...  \n",
              "4  Review for Dominos del Amo bl Lakewood CA Very...  "
            ]
          },
          "execution_count": 12,
          "metadata": {},
          "output_type": "execute_result"
        }
      ],
      "source": [
        "def clean(text):\n",
        "# Removes all special characters and numericals leaving the alphabets\n",
        "    text = re.sub('[^A-Za-z]+', ' ', text)\n",
        "    return text\n",
        "\n",
        "# Cleaning the text in the review column\n",
        "#apply() method allows you to apply a function along one of the axis of the DataFrame\n",
        "mydata['Cleaned Reviews'] = mydata['Review'].apply(clean)\n",
        "mydata.head()"
      ]
    },
    {
      "cell_type": "markdown",
      "id": "3eb0dd9a-750d-465b-856f-7ae23562e0f9",
      "metadata": {
        "id": "3eb0dd9a-750d-465b-856f-7ae23562e0f9"
      },
      "source": [
        "Step 2: Tokenization\n",
        "Tokenization is the process of breaking the text into smaller pieces called Tokens. It can be performed at sentences(sentence tokenization) or word level(word tokenization)."
      ]
    },
    {
      "cell_type": "markdown",
      "id": "c91b4bb2-0c93-40dd-9a6f-89bd0aa8863c",
      "metadata": {
        "id": "c91b4bb2-0c93-40dd-9a6f-89bd0aa8863c"
      },
      "source": [
        "Word Tokenization"
      ]
    },
    {
      "cell_type": "code",
      "execution_count": null,
      "id": "cf3c75f8-1671-4854-88d8-4988cf9aeed8",
      "metadata": {
        "tags": [],
        "id": "cf3c75f8-1671-4854-88d8-4988cf9aeed8",
        "outputId": "2ed6528c-8def-401f-e6b6-a9167cd35c14"
      },
      "outputs": [
        {
          "name": "stdout",
          "output_type": "stream",
          "text": [
            "Collecting nltk\n",
            "  Downloading nltk-3.8.1-py3-none-any.whl (1.5 MB)\n",
            "                                              0.0/1.5 MB ? eta -:--:--\n",
            "                                              0.0/1.5 MB 660.6 kB/s eta 0:00:03\n",
            "     -                                        0.1/1.5 MB 656.4 kB/s eta 0:00:03\n",
            "     --                                       0.1/1.5 MB 819.2 kB/s eta 0:00:02\n",
            "     ---                                      0.1/1.5 MB 774.0 kB/s eta 0:00:02\n",
            "     ----                                     0.2/1.5 MB 748.1 kB/s eta 0:00:02\n",
            "     -----                                    0.2/1.5 MB 737.3 kB/s eta 0:00:02\n",
            "     -----                                    0.2/1.5 MB 737.3 kB/s eta 0:00:02\n",
            "     -----                                    0.2/1.5 MB 625.1 kB/s eta 0:00:03\n",
            "     ------                                   0.2/1.5 MB 628.1 kB/s eta 0:00:03\n",
            "     ------                                   0.3/1.5 MB 561.1 kB/s eta 0:00:03\n",
            "     -------                                  0.3/1.5 MB 567.7 kB/s eta 0:00:03\n",
            "     --------                                 0.3/1.5 MB 542.9 kB/s eta 0:00:03\n",
            "     --------                                 0.3/1.5 MB 534.4 kB/s eta 0:00:03\n",
            "     --------                                 0.3/1.5 MB 537.2 kB/s eta 0:00:03\n",
            "     ---------                                0.4/1.5 MB 530.7 kB/s eta 0:00:03\n",
            "     ---------                                0.4/1.5 MB 487.6 kB/s eta 0:00:03\n",
            "     -----------                              0.4/1.5 MB 524.5 kB/s eta 0:00:03\n",
            "     -----------                              0.5/1.5 MB 531.8 kB/s eta 0:00:02\n",
            "     -------------                            0.5/1.5 MB 559.6 kB/s eta 0:00:02\n",
            "     ---------------                          0.6/1.5 MB 610.8 kB/s eta 0:00:02\n",
            "     ---------------                          0.6/1.5 MB 602.4 kB/s eta 0:00:02\n",
            "     -----------------                        0.6/1.5 MB 624.9 kB/s eta 0:00:02\n",
            "     -----------------                        0.7/1.5 MB 635.7 kB/s eta 0:00:02\n",
            "     -----------------                        0.7/1.5 MB 608.4 kB/s eta 0:00:02\n",
            "     -----------------                        0.7/1.5 MB 608.4 kB/s eta 0:00:02\n",
            "     ------------------                       0.7/1.5 MB 577.5 kB/s eta 0:00:02\n",
            "     ------------------                       0.7/1.5 MB 571.2 kB/s eta 0:00:02\n",
            "     ------------------                       0.7/1.5 MB 571.2 kB/s eta 0:00:02\n",
            "     ------------------                       0.7/1.5 MB 571.2 kB/s eta 0:00:02\n",
            "     -------------------                      0.7/1.5 MB 530.0 kB/s eta 0:00:02\n",
            "     --------------------                     0.8/1.5 MB 541.2 kB/s eta 0:00:02\n",
            "     ---------------------                    0.8/1.5 MB 537.9 kB/s eta 0:00:02\n",
            "     ----------------------                   0.8/1.5 MB 553.9 kB/s eta 0:00:02\n",
            "     ----------------------                   0.8/1.5 MB 553.9 kB/s eta 0:00:02\n",
            "     -----------------------                  0.9/1.5 MB 539.6 kB/s eta 0:00:02\n",
            "     -----------------------                  0.9/1.5 MB 539.6 kB/s eta 0:00:02\n",
            "     -----------------------                  0.9/1.5 MB 539.6 kB/s eta 0:00:02\n",
            "     -----------------------                  0.9/1.5 MB 509.1 kB/s eta 0:00:02\n",
            "     ------------------------                 0.9/1.5 MB 502.7 kB/s eta 0:00:02\n",
            "     ------------------------                 0.9/1.5 MB 495.5 kB/s eta 0:00:02\n",
            "     -------------------------                1.0/1.5 MB 498.2 kB/s eta 0:00:02\n",
            "     -------------------------                1.0/1.5 MB 491.4 kB/s eta 0:00:02\n",
            "     --------------------------               1.0/1.5 MB 501.8 kB/s eta 0:00:01\n",
            "     ----------------------------             1.1/1.5 MB 525.3 kB/s eta 0:00:01\n",
            "     ----------------------------             1.1/1.5 MB 525.3 kB/s eta 0:00:01\n",
            "     ----------------------------             1.1/1.5 MB 525.3 kB/s eta 0:00:01\n",
            "     ----------------------------             1.1/1.5 MB 525.3 kB/s eta 0:00:01\n",
            "     ----------------------------             1.1/1.5 MB 525.3 kB/s eta 0:00:01\n",
            "     ----------------------------             1.1/1.5 MB 525.3 kB/s eta 0:00:01\n",
            "     ------------------------------           1.2/1.5 MB 503.8 kB/s eta 0:00:01\n",
            "     -------------------------------          1.2/1.5 MB 494.6 kB/s eta 0:00:01\n",
            "     --------------------------------         1.2/1.5 MB 503.1 kB/s eta 0:00:01\n",
            "     ---------------------------------        1.2/1.5 MB 505.1 kB/s eta 0:00:01\n",
            "     ---------------------------------        1.3/1.5 MB 504.7 kB/s eta 0:00:01\n",
            "     ----------------------------------       1.3/1.5 MB 510.6 kB/s eta 0:00:01\n",
            "     -----------------------------------      1.3/1.5 MB 506.1 kB/s eta 0:00:01\n",
            "     -----------------------------------      1.3/1.5 MB 501.2 kB/s eta 0:00:01\n",
            "     -----------------------------------      1.3/1.5 MB 501.2 kB/s eta 0:00:01\n",
            "     ------------------------------------     1.4/1.5 MB 494.2 kB/s eta 0:00:01\n",
            "     -------------------------------------    1.4/1.5 MB 501.6 kB/s eta 0:00:01\n",
            "     --------------------------------------   1.5/1.5 MB 507.7 kB/s eta 0:00:01\n",
            "     ---------------------------------------  1.5/1.5 MB 506.5 kB/s eta 0:00:01\n",
            "     ---------------------------------------  1.5/1.5 MB 504.6 kB/s eta 0:00:01\n",
            "     ---------------------------------------- 1.5/1.5 MB 505.4 kB/s eta 0:00:00\n",
            "Requirement already satisfied: click in c:\\users\\user\\appdata\\local\\programs\\python\\python310\\lib\\site-packages (from nltk) (8.1.3)\n",
            "Collecting joblib (from nltk)\n",
            "  Downloading joblib-1.2.0-py3-none-any.whl (297 kB)\n",
            "                                              0.0/298.0 kB ? eta -:--:--\n",
            "     -                                        10.2/298.0 kB ? eta -:--:--\n",
            "     -------                               61.4/298.0 kB 825.8 kB/s eta 0:00:01\n",
            "     --------------                         112.6/298.0 kB 1.1 MB/s eta 0:00:01\n",
            "     -----------------                    143.4/298.0 kB 853.3 kB/s eta 0:00:01\n",
            "     -----------------                    143.4/298.0 kB 853.3 kB/s eta 0:00:01\n",
            "     ------------------                   153.6/298.0 kB 612.6 kB/s eta 0:00:01\n",
            "     ------------------                   153.6/298.0 kB 612.6 kB/s eta 0:00:01\n",
            "     ------------------                   153.6/298.0 kB 612.6 kB/s eta 0:00:01\n",
            "     -----------------------              194.6/298.0 kB 491.5 kB/s eta 0:00:01\n",
            "     ---------------------------          225.3/298.0 kB 509.6 kB/s eta 0:00:01\n",
            "     ----------------------------         235.5/298.0 kB 480.3 kB/s eta 0:00:01\n",
            "     ------------------------------       256.0/298.0 kB 491.5 kB/s eta 0:00:01\n",
            "     ------------------------------------ 298.0/298.0 kB 497.8 kB/s eta 0:00:00\n",
            "Requirement already satisfied: regex>=2021.8.3 in c:\\users\\user\\appdata\\local\\programs\\python\\python310\\lib\\site-packages (from nltk) (2023.5.5)\n",
            "Requirement already satisfied: tqdm in c:\\users\\user\\appdata\\local\\programs\\python\\python310\\lib\\site-packages (from nltk) (4.65.0)\n",
            "Requirement already satisfied: colorama in c:\\users\\user\\appdata\\local\\programs\\python\\python310\\lib\\site-packages (from click->nltk) (0.4.6)\n",
            "Installing collected packages: joblib, nltk\n",
            "Successfully installed joblib-1.2.0 nltk-3.8.1\n"
          ]
        }
      ],
      "source": [
        "!pip install nltk"
      ]
    },
    {
      "cell_type": "markdown",
      "id": "b7aefa47-9ce3-430a-8cac-8b4fa939ad46",
      "metadata": {
        "id": "b7aefa47-9ce3-430a-8cac-8b4fa939ad46"
      },
      "source": [
        "The Punkt tokenizer is based on the Punkt algorithm, which is an unsupervised learning algorithm for sentence boundary detection. It has been trained on large corpora and can handle a wide range of text types and languages. The algorithm uses a combination of punctuation patterns, abbreviations, and other linguistic cues to determine sentence boundaries."
      ]
    },
    {
      "cell_type": "code",
      "execution_count": null,
      "id": "fecf668c-dc92-4003-82a3-95a8e52c6920",
      "metadata": {
        "tags": [],
        "id": "fecf668c-dc92-4003-82a3-95a8e52c6920",
        "outputId": "c03fc72a-a468-4499-d8b5-3ff1fe854551"
      },
      "outputs": [
        {
          "name": "stderr",
          "output_type": "stream",
          "text": [
            "[nltk_data] Downloading package punkt to\n",
            "[nltk_data]     C:\\Users\\User\\AppData\\Roaming\\nltk_data...\n",
            "[nltk_data]   Package punkt is already up-to-date!\n"
          ]
        },
        {
          "data": {
            "text/plain": [
              "True"
            ]
          },
          "execution_count": 23,
          "metadata": {},
          "output_type": "execute_result"
        }
      ],
      "source": [
        "import nltk\n",
        "nltk.download('punkt')"
      ]
    },
    {
      "cell_type": "code",
      "execution_count": null,
      "id": "4e098751-83c7-4220-905c-7efdd3bcd26d",
      "metadata": {
        "tags": [],
        "id": "4e098751-83c7-4220-905c-7efdd3bcd26d",
        "outputId": "9b4e7a3b-6cfd-4bb7-d350-39568f01881f"
      },
      "outputs": [
        {
          "data": {
            "text/plain": [
              "['This', 'is', 'an', 'article', 'on', 'sentiment', 'analysis']"
            ]
          },
          "execution_count": 24,
          "metadata": {},
          "output_type": "execute_result"
        }
      ],
      "source": [
        "text=\"This is an article on sentiment analysis\"\n",
        "# Create a reference variable for Class word_tokenize\n",
        "\n",
        "tokens= nltk.word_tokenize(text)\n",
        "tokens"
      ]
    },
    {
      "cell_type": "markdown",
      "id": "192a6ea5-4f76-4c9e-b817-fa3c5a62196a",
      "metadata": {
        "id": "192a6ea5-4f76-4c9e-b817-fa3c5a62196a"
      },
      "source": [
        "Step 3: Enrichment – POS tagging"
      ]
    },
    {
      "cell_type": "markdown",
      "id": "cafad407-6894-4a33-8d24-c2f727235384",
      "metadata": {
        "id": "cafad407-6894-4a33-8d24-c2f727235384"
      },
      "source": [
        "Parts of Speech (POS) tagging is a process of converting each token into a tuple having the form (word, tag). POS tagging essential to preserve the context of the word and is essential for Lemmatization."
      ]
    },
    {
      "cell_type": "code",
      "execution_count": null,
      "id": "89a280bb-623b-4aa9-9d53-bafbc23238ca",
      "metadata": {
        "tags": [],
        "id": "89a280bb-623b-4aa9-9d53-bafbc23238ca"
      },
      "outputs": [],
      "source": [
        "from nltk import pos_tag"
      ]
    },
    {
      "cell_type": "markdown",
      "id": "5dc225cb-916b-49ed-8d09-b9c7eb06892f",
      "metadata": {
        "id": "5dc225cb-916b-49ed-8d09-b9c7eb06892f"
      },
      "source": [
        "The averaged_perceptron_tagger is a part of the Natural Language Toolkit (NLTK) library\n",
        "and refers to a pre-trained part-of-speech (POS) tagger.\n",
        "It is based on the averaged perceptron algorithm and\n",
        "is used to assign grammatical tags (such as noun, verb, adjective, etc.) to words in a given text.\n",
        "\n",
        "The averaged_perceptron_tagger in NLTK is trained on annotated corpora, where each word is labeled\n",
        "with its  corresponding part of speech. The tagger learns patterns and features from these training examples to make predictions about the POS tags of unseen words."
      ]
    },
    {
      "cell_type": "code",
      "execution_count": null,
      "id": "cbe05b4f-e984-4908-b431-134faf72b326",
      "metadata": {
        "tags": [],
        "id": "cbe05b4f-e984-4908-b431-134faf72b326",
        "outputId": "1b60979d-7699-4f4b-99f7-b1e59c8f0029"
      },
      "outputs": [
        {
          "name": "stderr",
          "output_type": "stream",
          "text": [
            "[nltk_data] Downloading package averaged_perceptron_tagger to\n",
            "[nltk_data]     C:\\Users\\User\\AppData\\Roaming\\nltk_data...\n",
            "[nltk_data]   Unzipping taggers\\averaged_perceptron_tagger.zip.\n"
          ]
        },
        {
          "data": {
            "text/plain": [
              "True"
            ]
          },
          "execution_count": 27,
          "metadata": {},
          "output_type": "execute_result"
        }
      ],
      "source": [
        "nltk.download('averaged_perceptron_tagger')"
      ]
    },
    {
      "cell_type": "code",
      "execution_count": null,
      "id": "b1c8270d-2098-404f-b6c2-26dde2237a10",
      "metadata": {
        "tags": [],
        "id": "b1c8270d-2098-404f-b6c2-26dde2237a10",
        "outputId": "3c1519c5-79dc-4013-97f5-ff5b3f785e9a"
      },
      "outputs": [
        {
          "data": {
            "text/plain": [
              "[('This', 'DT'),\n",
              " ('is', 'VBZ'),\n",
              " ('an', 'DT'),\n",
              " ('article', 'NN'),\n",
              " ('on', 'IN'),\n",
              " ('sentiment', 'NN'),\n",
              " ('analysis', 'NN')]"
            ]
          },
          "execution_count": 29,
          "metadata": {},
          "output_type": "execute_result"
        }
      ],
      "source": [
        "pos=nltk.pos_tag(tokens)\n",
        "pos"
      ]
    },
    {
      "cell_type": "markdown",
      "id": "d1409534-fedb-4579-8f87-00820ccf38fb",
      "metadata": {
        "id": "d1409534-fedb-4579-8f87-00820ccf38fb"
      },
      "source": [
        "Step 4: Stopwords removal\n",
        "Stopwords in English are words that carry very little useful information. We need to remove them as part of text preprocessing. nltk has a list of stopwords of every language."
      ]
    },
    {
      "cell_type": "code",
      "execution_count": null,
      "id": "d7a1a7d9-7806-425a-b628-33fcd5284fb8",
      "metadata": {
        "tags": [],
        "id": "d7a1a7d9-7806-425a-b628-33fcd5284fb8",
        "outputId": "d6b384fd-3e20-4634-ff13-384f6b9d4f2a"
      },
      "outputs": [
        {
          "name": "stderr",
          "output_type": "stream",
          "text": [
            "[nltk_data] Downloading package stopwords to\n",
            "[nltk_data]     C:\\Users\\User\\AppData\\Roaming\\nltk_data...\n",
            "[nltk_data]   Package stopwords is already up-to-date!\n"
          ]
        }
      ],
      "source": [
        "nltk.download('stopwords')\n",
        "from nltk.corpus import stopwords"
      ]
    },
    {
      "cell_type": "code",
      "execution_count": null,
      "id": "2a314103-69ff-4fa2-b24c-b9519db5d956",
      "metadata": {
        "tags": [],
        "id": "2a314103-69ff-4fa2-b24c-b9519db5d956",
        "outputId": "b8cadcdf-1490-464d-abbf-085287fe053c"
      },
      "outputs": [
        {
          "name": "stdout",
          "output_type": "stream",
          "text": [
            "['i', 'me', 'my', 'myself', 'we', 'our', 'ours', 'ourselves', 'you', \"you're\", \"you've\", \"you'll\", \"you'd\", 'your', 'yours', 'yourself', 'yourselves', 'he', 'him', 'his', 'himself', 'she', \"she's\", 'her', 'hers', 'herself', 'it', \"it's\", 'its', 'itself', 'they', 'them', 'their', 'theirs', 'themselves', 'what', 'which', 'who', 'whom', 'this', 'that', \"that'll\", 'these', 'those', 'am', 'is', 'are', 'was', 'were', 'be', 'been', 'being', 'have', 'has', 'had', 'having', 'do', 'does', 'did', 'doing', 'a', 'an', 'the', 'and', 'but', 'if', 'or', 'because', 'as', 'until', 'while', 'of', 'at', 'by', 'for', 'with', 'about', 'against', 'between', 'into', 'through', 'during', 'before', 'after', 'above', 'below', 'to', 'from', 'up', 'down', 'in', 'out', 'on', 'off', 'over', 'under', 'again', 'further', 'then', 'once', 'here', 'there', 'when', 'where', 'why', 'how', 'all', 'any', 'both', 'each', 'few', 'more', 'most', 'other', 'some', 'such', 'no', 'nor', 'not', 'only', 'own', 'same', 'so', 'than', 'too', 'very', 's', 't', 'can', 'will', 'just', 'don', \"don't\", 'should', \"should've\", 'now', 'd', 'll', 'm', 'o', 're', 've', 'y', 'ain', 'aren', \"aren't\", 'couldn', \"couldn't\", 'didn', \"didn't\", 'doesn', \"doesn't\", 'hadn', \"hadn't\", 'hasn', \"hasn't\", 'haven', \"haven't\", 'isn', \"isn't\", 'ma', 'mightn', \"mightn't\", 'mustn', \"mustn't\", 'needn', \"needn't\", 'shan', \"shan't\", 'shouldn', \"shouldn't\", 'wasn', \"wasn't\", 'weren', \"weren't\", 'won', \"won't\", 'wouldn', \"wouldn't\"]\n"
          ]
        }
      ],
      "source": [
        "stopwords = nltk.corpus.stopwords.words('english')\n",
        "print(stopwords)"
      ]
    },
    {
      "cell_type": "markdown",
      "id": "4c7b3ff5-a9f5-4369-8b9e-a9e2dfe3d332",
      "metadata": {
        "id": "4c7b3ff5-a9f5-4369-8b9e-a9e2dfe3d332"
      },
      "source": [
        "Removing Stop Words"
      ]
    },
    {
      "cell_type": "code",
      "execution_count": null,
      "id": "133fba86-1e31-448a-8396-c457554a62e2",
      "metadata": {
        "tags": [],
        "id": "133fba86-1e31-448a-8396-c457554a62e2",
        "outputId": "09308d3b-f07f-4c69-9cb0-e5a2107e86c8"
      },
      "outputs": [
        {
          "data": {
            "text/plain": [
              "'article Sentiment Analysis'"
            ]
          },
          "execution_count": 38,
          "metadata": {},
          "output_type": "execute_result"
        }
      ],
      "source": [
        "text=\"This is an article on Sentiment Analysis\"\n",
        "tokens=nltk.word_tokenize(text)\n",
        "new_text=(\" \").join(ele for ele in tokens if ele.lower() not in nltk.corpus.stopwords.words('english'))\n",
        "new_text"
      ]
    },
    {
      "cell_type": "markdown",
      "id": "7e00a523-1af2-4aa1-b589-ab0b986ee0de",
      "metadata": {
        "id": "7e00a523-1af2-4aa1-b589-ab0b986ee0de"
      },
      "source": [
        "Obtaining Stem Words"
      ]
    },
    {
      "cell_type": "markdown",
      "id": "e55ef181-9017-4bad-b4ae-b9936f880b50",
      "metadata": {
        "id": "e55ef181-9017-4bad-b4ae-b9936f880b50"
      },
      "source": [
        "A stem is a part of a word responsible for its lexical meaning.\n",
        "The two popular techniques of obtaining the root/stem words are Stemming and Lemmatization."
      ]
    },
    {
      "cell_type": "markdown",
      "id": "db27bf7d-0e40-46fd-a0e7-34b4187501da",
      "metadata": {
        "id": "db27bf7d-0e40-46fd-a0e7-34b4187501da"
      },
      "source": [
        "Stemming is a process in (NLP) that involves reducing words to their base or root form, known as the stem. The purpose of stemming is to simplify words to their common base form, which helps in reducing the dimensionality of the text data and improving text analysis tasks like information retrieval, search, and sentiment analysis."
      ]
    },
    {
      "cell_type": "markdown",
      "id": "c7475f2d-f0a6-41c6-be74-2a25a2d99e7a",
      "metadata": {
        "id": "c7475f2d-f0a6-41c6-be74-2a25a2d99e7a"
      },
      "source": [
        "Stemming algorithms follow a set of rules or heuristics to remove suffixes or prefixes from words, thereby obtaining the stem. The resulting stem may not always be a valid word or have a dictionary meaning, but it represents the core meaning of the original word."
      ]
    },
    {
      "cell_type": "markdown",
      "id": "944fe971-0d6e-483a-b837-66019dafbc7a",
      "metadata": {
        "id": "944fe971-0d6e-483a-b837-66019dafbc7a"
      },
      "source": [
        "Original words: \"running,\" \"runs,\" \"runner,\" \"ran\"\n",
        "\n",
        "After stemming: \"run,\" \"run,\" \"runner,\" \"ran\""
      ]
    },
    {
      "cell_type": "code",
      "execution_count": null,
      "id": "37d82f03-92b3-4480-a7b8-8762dc841853",
      "metadata": {
        "tags": [],
        "id": "37d82f03-92b3-4480-a7b8-8762dc841853"
      },
      "outputs": [],
      "source": [
        "# Stemming\n",
        "#The Porter stemming algorithm follows a set of steps to transform words by removing suffixes.\n",
        "#It considers the word's structure and applies rules sequentially until a suffix is\n",
        "#successfully removed or no further rules can be applied\n",
        "from nltk.stem import PorterStemmer"
      ]
    },
    {
      "cell_type": "code",
      "execution_count": null,
      "id": "56efd58c-2016-4939-9fdb-f3e8c303a50a",
      "metadata": {
        "tags": [],
        "id": "56efd58c-2016-4939-9fdb-f3e8c303a50a",
        "outputId": "7420f45a-c474-4a9c-a6cf-78bc0fe95714"
      },
      "outputs": [
        {
          "data": {
            "text/plain": [
              "['glanc', 'comput', 'came', 'offic']"
            ]
          },
          "execution_count": 45,
          "metadata": {},
          "output_type": "execute_result"
        }
      ],
      "source": [
        "text = \"He glanced up from his computer when she came into his office\"\n",
        "# Instantiate PorterStemmer()\n",
        "stemmer = PorterStemmer()\n",
        "\n",
        "tokens = nltk.word_tokenize(text)\n",
        "stem = []\n",
        "for ele in tokens:\n",
        "    if ele.lower() not in nltk.corpus.stopwords.words('english'):\n",
        "        stem.append(stemmer.stem(ele))\n",
        "stem"
      ]
    },
    {
      "cell_type": "markdown",
      "id": "96438e18-81e2-4c8e-bca8-e98532379bc8",
      "metadata": {
        "id": "96438e18-81e2-4c8e-bca8-e98532379bc8"
      },
      "source": [
        "\n",
        "Lemmatization is the process of reducing words to their base or canonical form, known as the lemma. Unlike stemming, which simply removes affixes from words to obtain a root form, lemmatization takes into account the word's part of speech and applies morphological analysis to derive the lemma. The resulting lemma is a valid word with a dictionary meaning.\n",
        "Example:\"walking,\" \"walks\" or \"walked the lemma is walk."
      ]
    },
    {
      "cell_type": "code",
      "execution_count": null,
      "id": "ed4588bf-5ad7-48cb-8a3f-75649654e0be",
      "metadata": {
        "tags": [],
        "id": "ed4588bf-5ad7-48cb-8a3f-75649654e0be"
      },
      "outputs": [],
      "source": [
        "# Lemmatization\n",
        "from nltk.stem import WordNetLemmatizer\n",
        "from nltk.corpus import wordnet\n",
        "from nltk import word_tokenize\n"
      ]
    },
    {
      "cell_type": "code",
      "execution_count": null,
      "id": "9a42a0da-6117-44a7-a0ad-ac1e51a77049",
      "metadata": {
        "tags": [],
        "id": "9a42a0da-6117-44a7-a0ad-ac1e51a77049",
        "outputId": "d7c0fb48-83fd-4747-cc1e-4a8ebaff9cdb"
      },
      "outputs": [
        {
          "name": "stderr",
          "output_type": "stream",
          "text": [
            "[nltk_data] Downloading package wordnet to\n",
            "[nltk_data]     C:\\Users\\User\\AppData\\Roaming\\nltk_data...\n"
          ]
        },
        {
          "data": {
            "text/plain": [
              "True"
            ]
          },
          "execution_count": 51,
          "metadata": {},
          "output_type": "execute_result"
        }
      ],
      "source": [
        "nltk.download('wordnet')"
      ]
    },
    {
      "cell_type": "markdown",
      "id": "a6517c8d-2b14-4861-b759-b2e1630676d6",
      "metadata": {
        "id": "a6517c8d-2b14-4861-b759-b2e1630676d6"
      },
      "source": [
        "The pos_dict dictionary is used to map the POS (part of speech) tags from the Penn Treebank tagset to the corresponding WordNet POS tags. This mapping is necessary because WordNet uses its own set of POS tags to identify the part of speech of words, while many NLP tools and libraries, including the NLTK (Natural Language Toolkit), often use the Penn Treebank tagset.\n",
        "The mapping allows for consistent and accurate lemmatization using WordNet."
      ]
    },
    {
      "cell_type": "code",
      "execution_count": null,
      "id": "a6e0e3ea-bef2-4b4a-b14b-4d27387a9c48",
      "metadata": {
        "tags": [],
        "id": "a6e0e3ea-bef2-4b4a-b14b-4d27387a9c48",
        "outputId": "b25f9953-b7a1-4d47-a4da-80b263db2c30"
      },
      "outputs": [
        {
          "data": {
            "text/plain": [
              "['glance', 'computer', 'come', 'office']"
            ]
          },
          "execution_count": 57,
          "metadata": {},
          "output_type": "execute_result"
        }
      ],
      "source": [
        "# Lemmatization\n",
        "# POS tagger dictionary\n",
        "pos_dict = {'J':wordnet.ADJ, 'V':wordnet.VERB, 'N':wordnet.NOUN, 'R':wordnet.ADV}\n",
        "\n",
        "#Instantiate WordNetLemmatizer\n",
        "wordnet_lemmatizer = WordNetLemmatizer()\n",
        "\n",
        "lemma = []\n",
        "pos = pos_tag(word_tokenize(text))\n",
        "for ele, tag in pos:\n",
        "    tag = pos_dict.get(tag[0])\n",
        "    if ele.lower() not in nltk.corpus.stopwords.words('english'):\n",
        "        if not tag:\n",
        "            lemma.append(ele)\n",
        "        else:\n",
        "            lemma.append(wordnet_lemmatizer.lemmatize(ele, tag))\n",
        "lemma\n",
        "#He glanced up from his computer when she came into his office"
      ]
    },
    {
      "cell_type": "markdown",
      "id": "ada646fa-03c6-444e-8739-2a4844b07c4d",
      "metadata": {
        "id": "ada646fa-03c6-444e-8739-2a4844b07c4d"
      },
      "source": [
        "Tokenization, POS tagging, Stopwords removal on reviews.txt\n",
        "\n"
      ]
    },
    {
      "cell_type": "code",
      "execution_count": null,
      "id": "3eb0fe78-06af-44f2-ba3d-6104b9a15abf",
      "metadata": {
        "tags": [],
        "id": "3eb0fe78-06af-44f2-ba3d-6104b9a15abf",
        "outputId": "762dc5a4-8d36-48a9-fcf6-bbbdf5fc43e5"
      },
      "outputs": [
        {
          "data": {
            "text/html": [
              "<div>\n",
              "<style scoped>\n",
              "    .dataframe tbody tr th:only-of-type {\n",
              "        vertical-align: middle;\n",
              "    }\n",
              "\n",
              "    .dataframe tbody tr th {\n",
              "        vertical-align: top;\n",
              "    }\n",
              "\n",
              "    .dataframe thead th {\n",
              "        text-align: right;\n",
              "    }\n",
              "</style>\n",
              "<table border=\"1\" class=\"dataframe\">\n",
              "  <thead>\n",
              "    <tr style=\"text-align: right;\">\n",
              "      <th></th>\n",
              "      <th>Review</th>\n",
              "      <th>Cleaned Reviews</th>\n",
              "      <th>POS tagged</th>\n",
              "    </tr>\n",
              "  </thead>\n",
              "  <tbody>\n",
              "    <tr>\n",
              "      <th>0</th>\n",
              "      <td>Absolutely love the value with their \"buy at l...</td>\n",
              "      <td>Absolutely love the value with their buy at le...</td>\n",
              "      <td>[(Absolutely, r), (love, None), (value, n), (b...</td>\n",
              "    </tr>\n",
              "    <tr>\n",
              "      <th>1</th>\n",
              "      <td>Ordered food from Domino's on North 25th stree...</td>\n",
              "      <td>Ordered food from Domino s on North th street ...</td>\n",
              "      <td>[(Ordered, v), (food, n), (Domino, n), (North,...</td>\n",
              "    </tr>\n",
              "    <tr>\n",
              "      <th>2</th>\n",
              "      <td>Ordered a veggie lover's pizza without onion f...</td>\n",
              "      <td>Ordered a veggie lover s pizza without onion f...</td>\n",
              "      <td>[(Ordered, v), (veggie, n), (lover, n), (pizza...</td>\n",
              "    </tr>\n",
              "    <tr>\n",
              "      <th>3</th>\n",
              "      <td>Just another good experience with the Domino's...</td>\n",
              "      <td>Just another good experience with the Domino s...</td>\n",
              "      <td>[(another, None), (good, a), (experience, n), ...</td>\n",
              "    </tr>\n",
              "    <tr>\n",
              "      <th>4</th>\n",
              "      <td>Review for Dominos del Amo bl, Lakewood CA. Ve...</td>\n",
              "      <td>Review for Dominos del Amo bl Lakewood CA Very...</td>\n",
              "      <td>[(Review, n), (Dominos, n), (del, None), (Amo,...</td>\n",
              "    </tr>\n",
              "  </tbody>\n",
              "</table>\n",
              "</div>"
            ],
            "text/plain": [
              "                                              Review   \n",
              "0  Absolutely love the value with their \"buy at l...  \\\n",
              "1  Ordered food from Domino's on North 25th stree...   \n",
              "2  Ordered a veggie lover's pizza without onion f...   \n",
              "3  Just another good experience with the Domino's...   \n",
              "4  Review for Dominos del Amo bl, Lakewood CA. Ve...   \n",
              "\n",
              "                                     Cleaned Reviews   \n",
              "0  Absolutely love the value with their buy at le...  \\\n",
              "1  Ordered food from Domino s on North th street ...   \n",
              "2  Ordered a veggie lover s pizza without onion f...   \n",
              "3  Just another good experience with the Domino s...   \n",
              "4  Review for Dominos del Amo bl Lakewood CA Very...   \n",
              "\n",
              "                                          POS tagged  \n",
              "0  [(Absolutely, r), (love, None), (value, n), (b...  \n",
              "1  [(Ordered, v), (food, n), (Domino, n), (North,...  \n",
              "2  [(Ordered, v), (veggie, n), (lover, n), (pizza...  \n",
              "3  [(another, None), (good, a), (experience, n), ...  \n",
              "4  [(Review, n), (Dominos, n), (del, None), (Amo,...  "
            ]
          },
          "execution_count": 59,
          "metadata": {},
          "output_type": "execute_result"
        }
      ],
      "source": [
        "pos_dict = {'J':wordnet.ADJ, 'V':wordnet.VERB, 'N':wordnet.NOUN, 'R':wordnet.ADV}\n",
        "def token_stop_pos(text):\n",
        "    tags = pos_tag(word_tokenize(text))\n",
        "    newlist = []\n",
        "    for word, tag in tags:\n",
        "        if word.lower() not in set(nltk.corpus.stopwords.words('english')):\n",
        "            newlist.append(tuple([word, pos_dict.get(tag[0])]))\n",
        "    return newlist\n",
        "\n",
        "mydata['POS tagged'] = mydata['Cleaned Reviews'].apply(token_stop_pos)\n",
        "mydata.head()"
      ]
    },
    {
      "cell_type": "markdown",
      "id": "6904b93b-db7a-455c-9284-8b4a3dba59ef",
      "metadata": {
        "id": "6904b93b-db7a-455c-9284-8b4a3dba59ef"
      },
      "source": [
        "Lemmatization"
      ]
    },
    {
      "cell_type": "code",
      "execution_count": null,
      "id": "aef16e14-fce9-4ca0-a51f-47041aadad28",
      "metadata": {
        "tags": [],
        "id": "aef16e14-fce9-4ca0-a51f-47041aadad28",
        "outputId": "7f61e7c8-c37a-4805-ac32-909f875ae32d"
      },
      "outputs": [
        {
          "data": {
            "text/html": [
              "<div>\n",
              "<style scoped>\n",
              "    .dataframe tbody tr th:only-of-type {\n",
              "        vertical-align: middle;\n",
              "    }\n",
              "\n",
              "    .dataframe tbody tr th {\n",
              "        vertical-align: top;\n",
              "    }\n",
              "\n",
              "    .dataframe thead th {\n",
              "        text-align: right;\n",
              "    }\n",
              "</style>\n",
              "<table border=\"1\" class=\"dataframe\">\n",
              "  <thead>\n",
              "    <tr style=\"text-align: right;\">\n",
              "      <th></th>\n",
              "      <th>Review</th>\n",
              "      <th>Cleaned Reviews</th>\n",
              "      <th>POS tagged</th>\n",
              "      <th>Lemma</th>\n",
              "    </tr>\n",
              "  </thead>\n",
              "  <tbody>\n",
              "    <tr>\n",
              "      <th>0</th>\n",
              "      <td>Absolutely love the value with their \"buy at l...</td>\n",
              "      <td>Absolutely love the value with their buy at le...</td>\n",
              "      <td>[(Absolutely, r), (love, None), (value, n), (b...</td>\n",
              "      <td>Absolutely love value buy least two deal go ...</td>\n",
              "    </tr>\n",
              "    <tr>\n",
              "      <th>1</th>\n",
              "      <td>Ordered food from Domino's on North 25th stree...</td>\n",
              "      <td>Ordered food from Domino s on North th street ...</td>\n",
              "      <td>[(Ordered, v), (food, n), (Domino, n), (North,...</td>\n",
              "      <td>Ordered food Domino North th street Derick t...</td>\n",
              "    </tr>\n",
              "    <tr>\n",
              "      <th>2</th>\n",
              "      <td>Ordered a veggie lover's pizza without onion f...</td>\n",
              "      <td>Ordered a veggie lover s pizza without onion f...</td>\n",
              "      <td>[(Ordered, v), (veggie, n), (lover, n), (pizza...</td>\n",
              "      <td>Ordered veggie lover pizza without onion loc...</td>\n",
              "    </tr>\n",
              "    <tr>\n",
              "      <th>3</th>\n",
              "      <td>Just another good experience with the Domino's...</td>\n",
              "      <td>Just another good experience with the Domino s...</td>\n",
              "      <td>[(another, None), (good, a), (experience, n), ...</td>\n",
              "      <td>another good experience Domino Pizza store K...</td>\n",
              "    </tr>\n",
              "    <tr>\n",
              "      <th>4</th>\n",
              "      <td>Review for Dominos del Amo bl, Lakewood CA. Ve...</td>\n",
              "      <td>Review for Dominos del Amo bl Lakewood CA Very...</td>\n",
              "      <td>[(Review, n), (Dominos, n), (del, None), (Amo,...</td>\n",
              "      <td>Review Dominos del Amo bl Lakewood CA highly...</td>\n",
              "    </tr>\n",
              "  </tbody>\n",
              "</table>\n",
              "</div>"
            ],
            "text/plain": [
              "                                              Review   \n",
              "0  Absolutely love the value with their \"buy at l...  \\\n",
              "1  Ordered food from Domino's on North 25th stree...   \n",
              "2  Ordered a veggie lover's pizza without onion f...   \n",
              "3  Just another good experience with the Domino's...   \n",
              "4  Review for Dominos del Amo bl, Lakewood CA. Ve...   \n",
              "\n",
              "                                     Cleaned Reviews   \n",
              "0  Absolutely love the value with their buy at le...  \\\n",
              "1  Ordered food from Domino s on North th street ...   \n",
              "2  Ordered a veggie lover s pizza without onion f...   \n",
              "3  Just another good experience with the Domino s...   \n",
              "4  Review for Dominos del Amo bl Lakewood CA Very...   \n",
              "\n",
              "                                          POS tagged   \n",
              "0  [(Absolutely, r), (love, None), (value, n), (b...  \\\n",
              "1  [(Ordered, v), (food, n), (Domino, n), (North,...   \n",
              "2  [(Ordered, v), (veggie, n), (lover, n), (pizza...   \n",
              "3  [(another, None), (good, a), (experience, n), ...   \n",
              "4  [(Review, n), (Dominos, n), (del, None), (Amo,...   \n",
              "\n",
              "                                               Lemma  \n",
              "0    Absolutely love value buy least two deal go ...  \n",
              "1    Ordered food Domino North th street Derick t...  \n",
              "2    Ordered veggie lover pizza without onion loc...  \n",
              "3    another good experience Domino Pizza store K...  \n",
              "4    Review Dominos del Amo bl Lakewood CA highly...  "
            ]
          },
          "execution_count": 61,
          "metadata": {},
          "output_type": "execute_result"
        }
      ],
      "source": [
        "from nltk.stem import WordNetLemmatizer\n",
        "wordnet_lemmatizer = WordNetLemmatizer()\n",
        "def lemmatize(pos_data):\n",
        "    lemma_rew = \" \"\n",
        "    for word, pos in pos_data:\n",
        "        if not pos:\n",
        "            lemma = word\n",
        "            lemma_rew = lemma_rew + \" \" + lemma\n",
        "        else:\n",
        "            lemma = wordnet_lemmatizer.lemmatize(word, pos=pos)\n",
        "            lemma_rew = lemma_rew + \" \" + lemma\n",
        "    return lemma_rew\n",
        "\n",
        "mydata['Lemma'] = mydata['POS tagged'].apply(lemmatize)\n",
        "mydata.head()"
      ]
    },
    {
      "cell_type": "markdown",
      "id": "5cf70924-1355-41f4-be5f-98189d3e2eea",
      "metadata": {
        "id": "5cf70924-1355-41f4-be5f-98189d3e2eea"
      },
      "source": [
        "Sentiment Analysis using TextBlob:"
      ]
    },
    {
      "cell_type": "markdown",
      "id": "7e38867e-ce7f-44cb-8b49-a8caba56c061",
      "metadata": {
        "id": "7e38867e-ce7f-44cb-8b49-a8caba56c061"
      },
      "source": [
        "TextBlob is a Python library for processing textual data. It provides a consistent API for diving into common natural language processing (NLP) tasks such as part-of-speech tagging, noun phrase extraction, sentiment analysis, and more."
      ]
    },
    {
      "cell_type": "markdown",
      "id": "033665f3-0b14-4de5-b8bd-063ce525fa3e",
      "metadata": {
        "id": "033665f3-0b14-4de5-b8bd-063ce525fa3e"
      },
      "source": [
        "TextBlob(text).sentiment gives us the Polarity, Subjectivity values.\n",
        "Polarity ranges from -1 to 1 (1 is more positive, 0 is neutral, -1 is more negative)\n",
        "Subjectivity ranges from 0 to 1(0 being very objective and 1 being very subjective)"
      ]
    },
    {
      "cell_type": "code",
      "execution_count": null,
      "id": "0ff9c0da-61cd-495d-968d-4bfcc9800b74",
      "metadata": {
        "tags": [],
        "id": "0ff9c0da-61cd-495d-968d-4bfcc9800b74",
        "outputId": "98fc1946-5e06-4353-cc5d-e1a8d242828e"
      },
      "outputs": [
        {
          "name": "stdout",
          "output_type": "stream",
          "text": [
            "Collecting TextBlob\n",
            "  Downloading textblob-0.17.1-py2.py3-none-any.whl (636 kB)\n",
            "                                              0.0/636.8 kB ? eta -:--:--\n",
            "                                              0.0/636.8 kB ? eta -:--:--\n",
            "     -                                     30.7/636.8 kB 660.6 kB/s eta 0:00:01\n",
            "     --                                    41.0/636.8 kB 393.8 kB/s eta 0:00:02\n",
            "     ----                                  81.9/636.8 kB 573.4 kB/s eta 0:00:01\n",
            "     ------                               112.6/636.8 kB 598.8 kB/s eta 0:00:01\n",
            "     ------                               122.9/636.8 kB 516.7 kB/s eta 0:00:01\n",
            "     --------                             143.4/636.8 kB 532.5 kB/s eta 0:00:01\n",
            "     ---------                            174.1/636.8 kB 553.5 kB/s eta 0:00:01\n",
            "     -----------                          204.8/636.8 kB 541.9 kB/s eta 0:00:01\n",
            "     -------------                        245.8/636.8 kB 580.1 kB/s eta 0:00:01\n",
            "     --------------                       256.0/636.8 kB 542.5 kB/s eta 0:00:01\n",
            "     ----------------                     286.7/636.8 kB 571.2 kB/s eta 0:00:01\n",
            "     -----------------                    317.4/636.8 kB 562.6 kB/s eta 0:00:01\n",
            "     --------------------                 368.6/636.8 kB 604.4 kB/s eta 0:00:01\n",
            "     --------------------                 368.6/636.8 kB 604.4 kB/s eta 0:00:01\n",
            "     -----------------------              419.8/636.8 kB 596.2 kB/s eta 0:00:01\n",
            "     -------------------------            450.6/636.8 kB 599.9 kB/s eta 0:00:01\n",
            "     --------------------------           471.0/636.8 kB 602.4 kB/s eta 0:00:01\n",
            "     -----------------------------        522.2/636.8 kB 618.4 kB/s eta 0:00:01\n",
            "     ------------------------------       532.5/636.8 kB 608.0 kB/s eta 0:00:01\n",
            "     --------------------------------     573.4/636.8 kB 611.5 kB/s eta 0:00:01\n",
            "     --------------------------------     583.7/636.8 kB 601.7 kB/s eta 0:00:01\n",
            "     ------------------------------------ 636.8/636.8 kB 617.3 kB/s eta 0:00:00\n",
            "Requirement already satisfied: nltk>=3.1 in c:\\users\\user\\appdata\\local\\programs\\python\\python310\\lib\\site-packages (from TextBlob) (3.8.1)\n",
            "Requirement already satisfied: click in c:\\users\\user\\appdata\\local\\programs\\python\\python310\\lib\\site-packages (from nltk>=3.1->TextBlob) (8.1.3)\n",
            "Requirement already satisfied: joblib in c:\\users\\user\\appdata\\local\\programs\\python\\python310\\lib\\site-packages (from nltk>=3.1->TextBlob) (1.2.0)\n",
            "Requirement already satisfied: regex>=2021.8.3 in c:\\users\\user\\appdata\\local\\programs\\python\\python310\\lib\\site-packages (from nltk>=3.1->TextBlob) (2023.5.5)\n",
            "Requirement already satisfied: tqdm in c:\\users\\user\\appdata\\local\\programs\\python\\python310\\lib\\site-packages (from nltk>=3.1->TextBlob) (4.65.0)\n",
            "Requirement already satisfied: colorama in c:\\users\\user\\appdata\\local\\programs\\python\\python310\\lib\\site-packages (from click->nltk>=3.1->TextBlob) (0.4.6)\n",
            "Installing collected packages: TextBlob\n",
            "Successfully installed TextBlob-0.17.1\n"
          ]
        }
      ],
      "source": [
        "!pip install TextBlob"
      ]
    },
    {
      "cell_type": "code",
      "execution_count": null,
      "id": "b63011d6-bffc-4536-b5fe-4df0d24e50f9",
      "metadata": {
        "tags": [],
        "id": "b63011d6-bffc-4536-b5fe-4df0d24e50f9"
      },
      "outputs": [],
      "source": [
        "from textblob import TextBlob\n",
        "\n",
        "# function to calculate subjectivity\n",
        "def getSubjectivity(review):\n",
        "    return TextBlob(review).sentiment.subjectivity\n",
        "\n",
        "# function to calculate polarity\n",
        "def getPolarity(review):\n",
        "    return TextBlob(review).sentiment.polarity\n",
        "\n",
        "# function to analyze the reviews\n",
        "def analysis(score):\n",
        "    if score < 0:\n",
        "        return 'Negative'\n",
        "    elif score == 0:\n",
        "        return 'Neutral'\n",
        "    else:\n",
        "        return 'Positive'"
      ]
    },
    {
      "cell_type": "code",
      "execution_count": null,
      "id": "f712fcc2-aad1-40e1-970e-179036641cb5",
      "metadata": {
        "tags": [],
        "id": "f712fcc2-aad1-40e1-970e-179036641cb5"
      },
      "outputs": [],
      "source": [
        "fin_data = pd.DataFrame(mydata[['Review', 'Lemma']])"
      ]
    },
    {
      "cell_type": "code",
      "execution_count": null,
      "id": "e9509ba6-c9a5-48fc-9804-e3cb4fb04e59",
      "metadata": {
        "tags": [],
        "id": "e9509ba6-c9a5-48fc-9804-e3cb4fb04e59",
        "outputId": "be4d0181-2436-495c-9a61-b20b943920de"
      },
      "outputs": [
        {
          "data": {
            "text/html": [
              "<div>\n",
              "<style scoped>\n",
              "    .dataframe tbody tr th:only-of-type {\n",
              "        vertical-align: middle;\n",
              "    }\n",
              "\n",
              "    .dataframe tbody tr th {\n",
              "        vertical-align: top;\n",
              "    }\n",
              "\n",
              "    .dataframe thead th {\n",
              "        text-align: right;\n",
              "    }\n",
              "</style>\n",
              "<table border=\"1\" class=\"dataframe\">\n",
              "  <thead>\n",
              "    <tr style=\"text-align: right;\">\n",
              "      <th></th>\n",
              "      <th>Review</th>\n",
              "      <th>Lemma</th>\n",
              "      <th>Polarity</th>\n",
              "      <th>Analysis</th>\n",
              "    </tr>\n",
              "  </thead>\n",
              "  <tbody>\n",
              "    <tr>\n",
              "      <th>0</th>\n",
              "      <td>Absolutely love the value with their \"buy at l...</td>\n",
              "      <td>Absolutely love value buy least two deal go ...</td>\n",
              "      <td>0.388889</td>\n",
              "      <td>Positive</td>\n",
              "    </tr>\n",
              "    <tr>\n",
              "      <th>1</th>\n",
              "      <td>Ordered food from Domino's on North 25th stree...</td>\n",
              "      <td>Ordered food Domino North th street Derick t...</td>\n",
              "      <td>0.316667</td>\n",
              "      <td>Positive</td>\n",
              "    </tr>\n",
              "    <tr>\n",
              "      <th>2</th>\n",
              "      <td>Ordered a veggie lover's pizza without onion f...</td>\n",
              "      <td>Ordered veggie lover pizza without onion loc...</td>\n",
              "      <td>0.146627</td>\n",
              "      <td>Positive</td>\n",
              "    </tr>\n",
              "    <tr>\n",
              "      <th>3</th>\n",
              "      <td>Just another good experience with the Domino's...</td>\n",
              "      <td>another good experience Domino Pizza store K...</td>\n",
              "      <td>0.233333</td>\n",
              "      <td>Positive</td>\n",
              "    </tr>\n",
              "    <tr>\n",
              "      <th>4</th>\n",
              "      <td>Review for Dominos del Amo bl, Lakewood CA. Ve...</td>\n",
              "      <td>Review Dominos del Amo bl Lakewood CA highly...</td>\n",
              "      <td>0.373500</td>\n",
              "      <td>Positive</td>\n",
              "    </tr>\n",
              "  </tbody>\n",
              "</table>\n",
              "</div>"
            ],
            "text/plain": [
              "                                              Review   \n",
              "0  Absolutely love the value with their \"buy at l...  \\\n",
              "1  Ordered food from Domino's on North 25th stree...   \n",
              "2  Ordered a veggie lover's pizza without onion f...   \n",
              "3  Just another good experience with the Domino's...   \n",
              "4  Review for Dominos del Amo bl, Lakewood CA. Ve...   \n",
              "\n",
              "                                               Lemma  Polarity  Analysis  \n",
              "0    Absolutely love value buy least two deal go ...  0.388889  Positive  \n",
              "1    Ordered food Domino North th street Derick t...  0.316667  Positive  \n",
              "2    Ordered veggie lover pizza without onion loc...  0.146627  Positive  \n",
              "3    another good experience Domino Pizza store K...  0.233333  Positive  \n",
              "4    Review Dominos del Amo bl Lakewood CA highly...  0.373500  Positive  "
            ]
          },
          "execution_count": 67,
          "metadata": {},
          "output_type": "execute_result"
        }
      ],
      "source": [
        "# fin_data['Subjectivity'] = fin_data['Lemma'].apply(getSubjectivity)\n",
        "fin_data['Polarity'] = fin_data['Lemma'].apply(getPolarity)\n",
        "fin_data['Analysis'] = fin_data['Polarity'].apply(analysis)\n",
        "fin_data.head()"
      ]
    },
    {
      "cell_type": "code",
      "execution_count": null,
      "id": "e07e4c91-0fa9-4961-bdc2-4c158c831fb5",
      "metadata": {
        "tags": [],
        "id": "e07e4c91-0fa9-4961-bdc2-4c158c831fb5",
        "outputId": "7757a06c-1ecf-4df7-a77f-16ed43acea32"
      },
      "outputs": [
        {
          "data": {
            "text/plain": [
              "Analysis\n",
              "Negative    64\n",
              "Positive    58\n",
              "Neutral      8\n",
              "Name: count, dtype: int64"
            ]
          },
          "execution_count": 68,
          "metadata": {},
          "output_type": "execute_result"
        }
      ],
      "source": [
        "tb_counts = fin_data.Analysis.value_counts()\n",
        "tb_counts"
      ]
    },
    {
      "cell_type": "code",
      "execution_count": null,
      "id": "7e619da6-0837-4543-9cc3-75ec7f48f3c3",
      "metadata": {
        "tags": [],
        "id": "7e619da6-0837-4543-9cc3-75ec7f48f3c3",
        "outputId": "ca81ccb8-2b42-4fa2-dfd8-3cb26a23734e"
      },
      "outputs": [
        {
          "name": "stdout",
          "output_type": "stream",
          "text": [
            "Collecting matplotlib\n",
            "  Downloading matplotlib-3.7.1-cp310-cp310-win_amd64.whl (7.6 MB)\n",
            "                                              0.0/7.6 MB ? eta -:--:--\n",
            "                                              0.0/7.6 MB 660.6 kB/s eta 0:00:12\n",
            "                                              0.0/7.6 MB 660.6 kB/s eta 0:00:12\n",
            "                                              0.1/7.6 MB 655.4 kB/s eta 0:00:12\n",
            "                                              0.1/7.6 MB 731.4 kB/s eta 0:00:11\n",
            "                                              0.2/7.6 MB 657.6 kB/s eta 0:00:12\n",
            "     -                                        0.2/7.6 MB 850.1 kB/s eta 0:00:09\n",
            "     -                                        0.3/7.6 MB 896.4 kB/s eta 0:00:09\n",
            "     -                                        0.3/7.6 MB 827.2 kB/s eta 0:00:09\n",
            "     -                                        0.3/7.6 MB 827.2 kB/s eta 0:00:09\n",
            "     -                                        0.3/7.6 MB 678.1 kB/s eta 0:00:11\n",
            "     -                                        0.3/7.6 MB 678.1 kB/s eta 0:00:11\n",
            "     --                                       0.4/7.6 MB 692.4 kB/s eta 0:00:11\n",
            "     --                                       0.5/7.6 MB 761.8 kB/s eta 0:00:10\n",
            "     --                                       0.5/7.6 MB 752.0 kB/s eta 0:00:10\n",
            "     --                                       0.5/7.6 MB 760.2 kB/s eta 0:00:10\n",
            "     ---                                      0.6/7.6 MB 767.3 kB/s eta 0:00:10\n",
            "     ---                                      0.7/7.6 MB 826.0 kB/s eta 0:00:09\n",
            "     ---                                      0.7/7.6 MB 853.3 kB/s eta 0:00:09\n",
            "     ----                                     0.8/7.6 MB 889.4 kB/s eta 0:00:08\n",
            "     ----                                     0.9/7.6 MB 932.9 kB/s eta 0:00:08\n",
            "     -----                                    1.0/7.6 MB 983.8 kB/s eta 0:00:07\n",
            "     -----                                    1.0/7.6 MB 998.8 kB/s eta 0:00:07\n",
            "     -----                                    1.1/7.6 MB 1.0 MB/s eta 0:00:07\n",
            "     ------                                   1.2/7.6 MB 1.1 MB/s eta 0:00:07\n",
            "     ------                                   1.3/7.6 MB 1.1 MB/s eta 0:00:06\n",
            "     -------                                  1.4/7.6 MB 1.1 MB/s eta 0:00:06\n",
            "     -------                                  1.4/7.6 MB 1.1 MB/s eta 0:00:06\n",
            "     --------                                 1.5/7.6 MB 1.2 MB/s eta 0:00:06\n",
            "     --------                                 1.6/7.6 MB 1.2 MB/s eta 0:00:06\n",
            "     --------                                 1.7/7.6 MB 1.2 MB/s eta 0:00:05\n",
            "     ---------                                1.8/7.6 MB 1.2 MB/s eta 0:00:05\n",
            "     ---------                                1.8/7.6 MB 1.2 MB/s eta 0:00:05\n",
            "     ----------                               1.9/7.6 MB 1.3 MB/s eta 0:00:05\n",
            "     ----------                               2.0/7.6 MB 1.3 MB/s eta 0:00:05\n",
            "     ----------                               2.1/7.6 MB 1.3 MB/s eta 0:00:05\n",
            "     -----------                              2.2/7.6 MB 1.3 MB/s eta 0:00:05\n",
            "     -----------                              2.2/7.6 MB 1.3 MB/s eta 0:00:05\n",
            "     ------------                             2.3/7.6 MB 1.3 MB/s eta 0:00:05\n",
            "     ------------                             2.4/7.6 MB 1.3 MB/s eta 0:00:04\n",
            "     -------------                            2.5/7.6 MB 1.3 MB/s eta 0:00:04\n",
            "     -------------                            2.6/7.6 MB 1.4 MB/s eta 0:00:04\n",
            "     -------------                            2.7/7.6 MB 1.4 MB/s eta 0:00:04\n",
            "     --------------                           2.7/7.6 MB 1.4 MB/s eta 0:00:04\n",
            "     --------------                           2.8/7.6 MB 1.4 MB/s eta 0:00:04\n",
            "     ---------------                          2.9/7.6 MB 1.4 MB/s eta 0:00:04\n",
            "     ---------------                          3.0/7.6 MB 1.4 MB/s eta 0:00:04\n",
            "     ----------------                         3.1/7.6 MB 1.4 MB/s eta 0:00:04\n",
            "     ----------------                         3.1/7.6 MB 1.4 MB/s eta 0:00:04\n",
            "     ----------------                         3.2/7.6 MB 1.4 MB/s eta 0:00:04\n",
            "     -----------------                        3.3/7.6 MB 1.4 MB/s eta 0:00:04\n",
            "     -----------------                        3.4/7.6 MB 1.4 MB/s eta 0:00:03\n",
            "     ------------------                       3.5/7.6 MB 1.4 MB/s eta 0:00:03\n",
            "     ------------------                       3.6/7.6 MB 1.4 MB/s eta 0:00:03\n",
            "     -------------------                      3.7/7.6 MB 1.5 MB/s eta 0:00:03\n",
            "     -------------------                      3.7/7.6 MB 1.5 MB/s eta 0:00:03\n",
            "     --------------------                     3.8/7.6 MB 1.5 MB/s eta 0:00:03\n",
            "     --------------------                     3.9/7.6 MB 1.5 MB/s eta 0:00:03\n",
            "     --------------------                     4.0/7.6 MB 1.5 MB/s eta 0:00:03\n",
            "     ---------------------                    4.1/7.6 MB 1.5 MB/s eta 0:00:03\n",
            "     ---------------------                    4.2/7.6 MB 1.5 MB/s eta 0:00:03\n",
            "     ----------------------                   4.2/7.6 MB 1.5 MB/s eta 0:00:03\n",
            "     ----------------------                   4.3/7.6 MB 1.5 MB/s eta 0:00:03\n",
            "     ----------------------                   4.3/7.6 MB 1.5 MB/s eta 0:00:03\n",
            "     -----------------------                  4.4/7.6 MB 1.5 MB/s eta 0:00:03\n",
            "     -----------------------                  4.5/7.6 MB 1.5 MB/s eta 0:00:03\n",
            "     -----------------------                  4.6/7.6 MB 1.5 MB/s eta 0:00:03\n",
            "     -----------------------                  4.6/7.6 MB 1.5 MB/s eta 0:00:03\n",
            "     ------------------------                 4.7/7.6 MB 1.5 MB/s eta 0:00:03\n",
            "     ------------------------                 4.7/7.6 MB 1.5 MB/s eta 0:00:03\n",
            "     ------------------------                 4.8/7.6 MB 1.5 MB/s eta 0:00:02\n",
            "     ------------------------                 4.8/7.6 MB 1.5 MB/s eta 0:00:02\n",
            "     -------------------------                4.8/7.6 MB 1.4 MB/s eta 0:00:02\n",
            "     -------------------------                4.8/7.6 MB 1.4 MB/s eta 0:00:02\n",
            "     -------------------------                4.9/7.6 MB 1.4 MB/s eta 0:00:02\n",
            "     --------------------------               5.0/7.6 MB 1.4 MB/s eta 0:00:02\n",
            "     --------------------------               5.0/7.6 MB 1.4 MB/s eta 0:00:02\n",
            "     --------------------------               5.0/7.6 MB 1.4 MB/s eta 0:00:02\n",
            "     --------------------------               5.1/7.6 MB 1.4 MB/s eta 0:00:02\n",
            "     --------------------------               5.1/7.6 MB 1.4 MB/s eta 0:00:02\n",
            "     --------------------------               5.1/7.6 MB 1.4 MB/s eta 0:00:02\n",
            "     ---------------------------              5.2/7.6 MB 1.4 MB/s eta 0:00:02\n",
            "     ---------------------------              5.2/7.6 MB 1.4 MB/s eta 0:00:02\n",
            "     ---------------------------              5.3/7.6 MB 1.4 MB/s eta 0:00:02\n",
            "     ---------------------------              5.3/7.6 MB 1.4 MB/s eta 0:00:02\n",
            "     ----------------------------             5.4/7.6 MB 1.4 MB/s eta 0:00:02\n",
            "     ----------------------------             5.4/7.6 MB 1.4 MB/s eta 0:00:02\n",
            "     ----------------------------             5.4/7.6 MB 1.4 MB/s eta 0:00:02\n",
            "     ----------------------------             5.4/7.6 MB 1.4 MB/s eta 0:00:02\n",
            "     ----------------------------             5.5/7.6 MB 1.3 MB/s eta 0:00:02\n",
            "     ----------------------------             5.5/7.6 MB 1.3 MB/s eta 0:00:02\n",
            "     ----------------------------             5.5/7.6 MB 1.3 MB/s eta 0:00:02\n",
            "     -----------------------------            5.5/7.6 MB 1.3 MB/s eta 0:00:02\n",
            "     -----------------------------            5.6/7.6 MB 1.3 MB/s eta 0:00:02\n",
            "     -----------------------------            5.6/7.6 MB 1.3 MB/s eta 0:00:02\n",
            "     -----------------------------            5.6/7.6 MB 1.3 MB/s eta 0:00:02\n",
            "     -----------------------------            5.6/7.6 MB 1.3 MB/s eta 0:00:02\n",
            "     -----------------------------            5.7/7.6 MB 1.3 MB/s eta 0:00:02\n",
            "     -----------------------------            5.7/7.6 MB 1.3 MB/s eta 0:00:02\n",
            "     -----------------------------            5.7/7.6 MB 1.3 MB/s eta 0:00:02\n",
            "     -----------------------------            5.7/7.6 MB 1.3 MB/s eta 0:00:02\n",
            "     -----------------------------            5.7/7.6 MB 1.3 MB/s eta 0:00:02\n",
            "     -----------------------------            5.7/7.6 MB 1.3 MB/s eta 0:00:02\n",
            "     -----------------------------            5.7/7.6 MB 1.3 MB/s eta 0:00:02\n",
            "     -----------------------------            5.7/7.6 MB 1.3 MB/s eta 0:00:02\n",
            "     -----------------------------            5.7/7.6 MB 1.3 MB/s eta 0:00:02\n",
            "     -----------------------------            5.7/7.6 MB 1.3 MB/s eta 0:00:02\n",
            "     -----------------------------            5.7/7.6 MB 1.3 MB/s eta 0:00:02\n",
            "     -----------------------------            5.7/7.6 MB 1.3 MB/s eta 0:00:02\n",
            "     -----------------------------            5.7/7.6 MB 1.3 MB/s eta 0:00:02\n",
            "     -----------------------------            5.7/7.6 MB 1.3 MB/s eta 0:00:02\n",
            "     -----------------------------            5.7/7.6 MB 1.3 MB/s eta 0:00:02\n",
            "     -----------------------------            5.7/7.6 MB 1.3 MB/s eta 0:00:02\n",
            "     -----------------------------            5.7/7.6 MB 1.3 MB/s eta 0:00:02\n",
            "     -----------------------------            5.7/7.6 MB 1.3 MB/s eta 0:00:02\n",
            "     -----------------------------            5.7/7.6 MB 1.3 MB/s eta 0:00:02\n",
            "     -----------------------------            5.7/7.6 MB 1.3 MB/s eta 0:00:02\n",
            "     -----------------------------            5.7/7.6 MB 1.3 MB/s eta 0:00:02\n",
            "     -----------------------------            5.7/7.6 MB 1.3 MB/s eta 0:00:02\n",
            "     -----------------------------            5.7/7.6 MB 1.3 MB/s eta 0:00:02\n",
            "     -----------------------------            5.7/7.6 MB 1.3 MB/s eta 0:00:02\n",
            "     -----------------------------            5.7/7.6 MB 1.3 MB/s eta 0:00:02\n",
            "     -------------------------------          6.0/7.6 MB 1.0 MB/s eta 0:00:02\n",
            "     -------------------------------          6.0/7.6 MB 1.0 MB/s eta 0:00:02\n",
            "     -------------------------------          6.0/7.6 MB 1.0 MB/s eta 0:00:02\n",
            "     -------------------------------          6.0/7.6 MB 1.0 MB/s eta 0:00:02\n",
            "     -------------------------------          6.0/7.6 MB 1.0 MB/s eta 0:00:02\n",
            "     -------------------------------          6.0/7.6 MB 1.0 MB/s eta 0:00:02\n",
            "     --------------------------------         6.2/7.6 MB 1.0 MB/s eta 0:00:02\n",
            "     ---------------------------------        6.5/7.6 MB 1.1 MB/s eta 0:00:02\n",
            "     ----------------------------------       6.5/7.6 MB 1.1 MB/s eta 0:00:02\n",
            "     ----------------------------------       6.6/7.6 MB 1.1 MB/s eta 0:00:02\n",
            "     ----------------------------------       6.6/7.6 MB 1.1 MB/s eta 0:00:01\n",
            "     ----------------------------------       6.7/7.6 MB 1.1 MB/s eta 0:00:01\n",
            "     -----------------------------------      6.7/7.6 MB 1.1 MB/s eta 0:00:01\n",
            "     -----------------------------------      6.8/7.6 MB 1.1 MB/s eta 0:00:01\n",
            "     ------------------------------------     6.9/7.6 MB 1.1 MB/s eta 0:00:01\n",
            "     ------------------------------------     7.0/7.6 MB 1.1 MB/s eta 0:00:01\n",
            "     ------------------------------------     7.0/7.6 MB 1.1 MB/s eta 0:00:01\n",
            "     -------------------------------------    7.1/7.6 MB 1.1 MB/s eta 0:00:01\n",
            "     -------------------------------------    7.2/7.6 MB 1.1 MB/s eta 0:00:01\n",
            "     --------------------------------------   7.3/7.6 MB 1.1 MB/s eta 0:00:01\n",
            "     --------------------------------------   7.4/7.6 MB 1.1 MB/s eta 0:00:01\n",
            "     --------------------------------------   7.4/7.6 MB 1.1 MB/s eta 0:00:01\n",
            "     ---------------------------------------  7.5/7.6 MB 1.1 MB/s eta 0:00:01\n",
            "     ---------------------------------------  7.6/7.6 MB 1.1 MB/s eta 0:00:01\n",
            "     ---------------------------------------- 7.6/7.6 MB 1.1 MB/s eta 0:00:00\n",
            "Collecting contourpy>=1.0.1 (from matplotlib)\n",
            "  Downloading contourpy-1.0.7-cp310-cp310-win_amd64.whl (162 kB)\n",
            "                                              0.0/163.0 kB ? eta -:--:--\n",
            "     --------------                          61.4/163.0 kB 1.7 MB/s eta 0:00:01\n",
            "     --------------------------             112.6/163.0 kB 1.3 MB/s eta 0:00:01\n",
            "     -------------------------------------- 163.0/163.0 kB 1.4 MB/s eta 0:00:00\n",
            "Collecting cycler>=0.10 (from matplotlib)\n",
            "  Downloading cycler-0.11.0-py3-none-any.whl (6.4 kB)\n",
            "Collecting fonttools>=4.22.0 (from matplotlib)\n",
            "  Downloading fonttools-4.39.4-py3-none-any.whl (1.0 MB)\n",
            "                                              0.0/1.0 MB ? eta -:--:--\n",
            "     -                                        0.0/1.0 MB 1.3 MB/s eta 0:00:01\n",
            "     ----                                     0.1/1.0 MB 1.6 MB/s eta 0:00:01\n",
            "     --------                                 0.2/1.0 MB 1.8 MB/s eta 0:00:01\n",
            "     -----------                              0.3/1.0 MB 1.8 MB/s eta 0:00:01\n",
            "     -------------                            0.3/1.0 MB 1.7 MB/s eta 0:00:01\n",
            "     -----------------                        0.4/1.0 MB 1.7 MB/s eta 0:00:01\n",
            "     -------------------                      0.5/1.0 MB 1.7 MB/s eta 0:00:01\n",
            "     ----------------------                   0.6/1.0 MB 1.6 MB/s eta 0:00:01\n",
            "     -------------------------                0.7/1.0 MB 1.6 MB/s eta 0:00:01\n",
            "     -----------------------------            0.7/1.0 MB 1.7 MB/s eta 0:00:01\n",
            "     ------------------------------           0.8/1.0 MB 1.7 MB/s eta 0:00:01\n",
            "     --------------------------------         0.8/1.0 MB 1.5 MB/s eta 0:00:01\n",
            "     ------------------------------------     0.9/1.0 MB 1.6 MB/s eta 0:00:01\n",
            "     ---------------------------------------  1.0/1.0 MB 1.6 MB/s eta 0:00:01\n",
            "     ---------------------------------------- 1.0/1.0 MB 1.6 MB/s eta 0:00:00\n",
            "Collecting kiwisolver>=1.0.1 (from matplotlib)\n",
            "  Downloading kiwisolver-1.4.4-cp310-cp310-win_amd64.whl (55 kB)\n",
            "                                              0.0/55.3 kB ? eta -:--:--\n",
            "     ----------------------                   30.7/55.3 kB 1.3 MB/s eta 0:00:01\n",
            "     -------------------------------------- 55.3/55.3 kB 957.9 kB/s eta 0:00:00\n",
            "Requirement already satisfied: numpy>=1.20 in c:\\users\\user\\appdata\\local\\programs\\python\\python310\\lib\\site-packages (from matplotlib) (1.24.2)\n",
            "Requirement already satisfied: packaging>=20.0 in c:\\users\\user\\appdata\\local\\programs\\python\\python310\\lib\\site-packages (from matplotlib) (23.1)\n",
            "Requirement already satisfied: pillow>=6.2.0 in c:\\users\\user\\appdata\\local\\programs\\python\\python310\\lib\\site-packages (from matplotlib) (9.5.0)\n",
            "Requirement already satisfied: pyparsing>=2.3.1 in c:\\users\\user\\appdata\\local\\programs\\python\\python310\\lib\\site-packages (from matplotlib) (3.0.9)\n",
            "Requirement already satisfied: python-dateutil>=2.7 in c:\\users\\user\\appdata\\local\\programs\\python\\python310\\lib\\site-packages (from matplotlib) (2.8.2)\n",
            "Requirement already satisfied: six>=1.5 in c:\\users\\user\\appdata\\local\\programs\\python\\python310\\lib\\site-packages (from python-dateutil>=2.7->matplotlib) (1.16.0)\n",
            "Installing collected packages: kiwisolver, fonttools, cycler, contourpy, matplotlib\n",
            "Successfully installed contourpy-1.0.7 cycler-0.11.0 fonttools-4.39.4 kiwisolver-1.4.4 matplotlib-3.7.1\n"
          ]
        }
      ],
      "source": [
        "!pip install matplotlib"
      ]
    },
    {
      "cell_type": "code",
      "execution_count": null,
      "id": "27462da7-0cbe-4558-b832-64bc96b3ae66",
      "metadata": {
        "tags": [],
        "id": "27462da7-0cbe-4558-b832-64bc96b3ae66",
        "outputId": "9753cf97-3774-4f0d-fdd6-eff05863ff00"
      },
      "outputs": [
        {
          "data": {
            "text/plain": [
              "([<matplotlib.patches.Wedge at 0x20a3bc77490>,\n",
              "  <matplotlib.patches.Wedge at 0x20a3bc773a0>,\n",
              "  <matplotlib.patches.Wedge at 0x20a3bcc41c0>],\n",
              " [Text(0.02658011817575533, 1.0996788155264987, 'Negative'),\n",
              "  Text(-0.23736260252046337, -1.0740851897892982, 'Positive'),\n",
              "  Text(1.3248496763125257, -0.2593710376557031, 'Neutral')],\n",
              " [Text(0.014498246277684724, 0.5998248084689992, '49.2%'),\n",
              "  Text(-0.1294705104657073, -0.5858646489759808, '44.6%'),\n",
              "  Text(0.8341646110115901, -0.16330769037581302, '6.2%')])"
            ]
          },
          "execution_count": 70,
          "metadata": {},
          "output_type": "execute_result"
        },
        {
          "data": {
            "image/png": "[encoded data removed]",
            "text/plain": [
              "<Figure size 1000x700 with 1 Axes>"
            ]
          },
          "metadata": {},
          "output_type": "display_data"
        }
      ],
      "source": [
        "import matplotlib.pyplot as plt\n",
        "%matplotlib inline\n",
        "\n",
        "tb_count= fin_data.Analysis.value_counts()\n",
        "plt.figure(figsize=(10, 7))\n",
        "plt.pie(tb_counts.values, labels = tb_counts.index, explode = (0, 0, 0.25), autopct='%1.1f%%', shadow=False)\n",
        "# plt.legend()"
      ]
    },
    {
      "cell_type": "code",
      "execution_count": null,
      "id": "29bbd7a3-9f12-4d1a-a999-1ec4bf2c28fc",
      "metadata": {
        "id": "29bbd7a3-9f12-4d1a-a999-1ec4bf2c28fc"
      },
      "outputs": [],
      "source": []
    }
  ],
  "metadata": {
    "kernelspec": {
      "display_name": "Python 3 (ipykernel)",
      "language": "python",
      "name": "python3"
    },
    "language_info": {
      "codemirror_mode": {
        "name": "ipython",
        "version": 3
      },
      "file_extension": ".py",
      "mimetype": "text/x-python",
      "name": "python",
      "nbconvert_exporter": "python",
      "pygments_lexer": "ipython3",
      "version": "3.10.11"
    },
    "colab": {
      "provenance": []
    }
  },
  "nbformat": 4,
  "nbformat_minor": 5
}